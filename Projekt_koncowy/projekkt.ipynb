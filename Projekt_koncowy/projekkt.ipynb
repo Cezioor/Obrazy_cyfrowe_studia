{
 "cells": [
  {
   "cell_type": "code",
   "execution_count": 4,
   "id": "239a9ebb",
   "metadata": {},
   "outputs": [],
   "source": [
    "import os\n",
    "import random\n",
    "import numpy as np\n",
    "import pandas as pd\n",
    "import glob\n",
    "import cv2\n",
    "import matplotlib.pyplot as plt\n",
    "import seaborn as sns\n",
    "import warnings\n",
    "import tensorflow as tf\n",
    "from tensorflow.keras import layers, models, regularizers\n",
    "from tensorflow.keras.preprocessing.image import ImageDataGenerator\n",
    "from tensorflow.keras.callbacks import EarlyStopping, ReduceLROnPlateau\n",
    "from sklearn.model_selection import train_test_split\n",
    "from sklearn.metrics import confusion_matrix, roc_auc_score, roc_curve\n",
    "warnings.filterwarnings('ignore')"
   ]
  },
  {
   "cell_type": "code",
   "execution_count": null,
   "id": "37091d4c",
   "metadata": {},
   "outputs": [],
   "source": [
    "# ---- GLOBAL SETTINGS ----\n",
    "random.seed(42)\n",
    "np.random.seed(42)\n",
    "tf.random.set_seed(42)\n",
    "\n",
    "IMG_SIZE = 64\n",
    "BATCH = 16\n",
    "EPOCHS = 50\n",
    "PATIENCE = 5\n",
    "\n",
    "train_path = r\"C:\\Users\\LT\\Desktop\\Licencjat\\train\"\n",
    "test_path  = r\"C:\\Users\\LT\\Desktop\\Licencjat\\test\""
   ]
  },
  {
   "cell_type": "code",
   "execution_count": 6,
   "id": "0f43c571",
   "metadata": {},
   "outputs": [
    {
     "data": {
      "image/png": "[encoded data removed]",
      "text/plain": [
       "<Figure size 600x400 with 1 Axes>"
      ]
     },
     "metadata": {},
     "output_type": "display_data"
    },
    {
     "data": {
      "image/png": "[encoded data removed]",
      "text/plain": [
       "<Figure size 600x400 with 1 Axes>"
      ]
     },
     "metadata": {},
     "output_type": "display_data"
    }
   ],
   "source": [
    "# ---- DATA LOADING ----\n",
    "def get_all_images(folder, label):\n",
    "    return glob.glob(os.path.join(folder, label, \"*.jpeg\"))\n",
    "\n",
    "train_normal_imgs = get_all_images(train_path, \"NORMAL\")\n",
    "train_pneumonia_imgs = get_all_images(train_path, \"PNEUMONIA\")\n",
    "test_normal_imgs = get_all_images(test_path, \"NORMAL\")\n",
    "test_pneumonia_imgs = get_all_images(test_path, \"PNEUMONIA\")\n",
    "\n",
    "train_imgs = train_normal_imgs + train_pneumonia_imgs\n",
    "train_labels = [\"Normal\"] * len(train_normal_imgs) + [\"Pneumonia\"] * len(train_pneumonia_imgs)\n",
    "test_imgs = test_normal_imgs + test_pneumonia_imgs\n",
    "test_labels = [\"Normal\"] * len(test_normal_imgs) + [\"Pneumonia\"] * len(test_pneumonia_imgs)\n",
    "\n",
    "df_train = pd.DataFrame({\"image\": train_imgs,  \"class\": train_labels})\n",
    "df_test  = pd.DataFrame({\"image\": test_imgs,   \"class\": test_labels})\n",
    "\n",
    "# ---- CLASS DISTRIBUTION ----\n",
    "plt.figure(figsize=(6, 4))\n",
    "sns.countplot(x='class', data=df_train, palette=\"mako\")\n",
    "plt.title('Train Set Class Distribution')\n",
    "plt.show()\n",
    "\n",
    "plt.figure(figsize=(6, 4))\n",
    "sns.countplot(x='class', data=df_test, palette=\"mako\")\n",
    "plt.title('Test Set Class Distribution')\n",
    "plt.show()"
   ]
  },
  {
   "cell_type": "code",
   "execution_count": 7,
   "id": "314725fb",
   "metadata": {},
   "outputs": [
    {
     "name": "stdout",
     "output_type": "stream",
     "text": [
      "Train Set - Normal\n"
     ]
    },
    {
     "data": {
      "text/plain": [
       "<Figure size 1200x1200 with 0 Axes>"
      ]
     },
     "metadata": {},
     "output_type": "display_data"
    },
    {
     "name": "stdout",
     "output_type": "stream",
     "text": [
      "Train Set - Pneumonia\n"
     ]
    },
    {
     "data": {
      "text/plain": [
       "<Figure size 1200x1200 with 0 Axes>"
      ]
     },
     "metadata": {},
     "output_type": "display_data"
    },
    {
     "name": "stdout",
     "output_type": "stream",
     "text": [
      "Test Set - Normal\n"
     ]
    },
    {
     "data": {
      "text/plain": [
       "<Figure size 1200x1200 with 0 Axes>"
      ]
     },
     "metadata": {},
     "output_type": "display_data"
    },
    {
     "name": "stdout",
     "output_type": "stream",
     "text": [
      "Test Set - Pneumonia\n"
     ]
    },
    {
     "data": {
      "text/plain": [
       "<Figure size 1200x1200 with 0 Axes>"
      ]
     },
     "metadata": {},
     "output_type": "display_data"
    }
   ],
   "source": [
    "# ---- IMAGE PREVIEW ----\n",
    "def show_images(df, dataset_name, target_class):\n",
    "    print(f\"{dataset_name} - {target_class}\")\n",
    "    filtered_df = df[df['class'] == target_class].reset_index(drop=True)\n",
    "    plt.figure(figsize=(12, 12))\n",
    "    for i in range(min(12, len(filtered_df))):\n",
    "        plt.subplot(3, 4, i+1)\n",
    "        img = cv2.imread(filtered_df.loc[i, 'image'])\n",
    "        img = cv2.resize(img, (IMG_SIZE, IMG_SIZE))\n",
    "        img = cv2.cvtColor(img, cv2.COLOR_BGR2RGB)\n",
    "        plt.imshow(img)\n",
    "        plt.axis('off')\n",
    "    plt.tight_layout()\n",
    "    plt.show()\n",
    "\n",
    "show_images(df_train, \"Train Set\", \"Normal\")\n",
    "show_images(df_train, \"Train Set\", \"Pneumonia\")\n",
    "show_images(df_test, \"Test Set\", \"Normal\")\n",
    "show_images(df_test, \"Test Set\", \"Pneumonia\")\n"
   ]
  },
  {
   "cell_type": "code",
   "execution_count": null,
   "id": "c1cf90c7",
   "metadata": {},
   "outputs": [],
   "source": [
    "# ---- TRAIN/VAL SPLIT ----\n",
    "train_df, val_df = train_test_split(\n",
    "    df_train, test_size=0.2, \n",
    "    stratify=df_train[\"class\"], random_state=42\n",
    "    )"
   ]
  },
  {
   "cell_type": "code",
   "execution_count": null,
   "id": "9f3c94b5",
   "metadata": {},
   "outputs": [],
   "source": [
    "# ---- IMAGE GENERATORS ----\n",
    "train_gen = ImageDataGenerator(\n",
    "    rescale=1/255.,\n",
    "    rotation_range=25,\n",
    "    width_shift_range=0.3,\n",
    "    height_shift_range=0.3,\n",
    "    shear_range=0.2,\n",
    "    zoom_range=0.3,\n",
    "    horizontal_flip=True,\n",
    "    brightness_range=[0.7, 1.3]\n",
    ")\n",
    "val_gen = ImageDataGenerator(rescale=1/255.)\n",
    "\n",
    "ds_train = train_gen.flow_from_dataframe(\n",
    "    train_df, x_col=\"image\", y_col=\"class\",\n",
    "    class_mode=\"binary\", target_size=(IMG_SIZE,IMG_SIZE),\n",
    "    batch_size=BATCH, shuffle=True\n",
    ")\n",
    "ds_val = val_gen.flow_from_dataframe(\n",
    "    val_df, x_col=\"image\", y_col=\"class\",\n",
    "    class_mode=\"binary\", target_size=(IMG_SIZE,IMG_SIZE),\n",
    "    batch_size=BATCH, shuffle=False\n",
    ")\n",
    "ds_test = val_gen.flow_from_dataframe(\n",
    "    df_test, x_col=\"image\", y_col=\"class\",\n",
    "    class_mode=\"binary\", target_size=(IMG_SIZE,IMG_SIZE),\n",
    "    batch_size=1, shuffle=False\n",
    ")\n"
   ]
  },
  {
   "cell_type": "code",
   "execution_count": null,
   "id": "290b1700",
   "metadata": {},
   "outputs": [],
   "source": [
    "# ---- CNN MODEL ----\n",
    "model = models.Sequential([\n",
    "    layers.Input((IMG_SIZE, IMG_SIZE, 3)),\n",
    "    layers.Conv2D(32, 3, padding='same', activation='relu'),\n",
    "    layers.BatchNormalization(),\n",
    "    layers.MaxPool2D(),\n",
    "\n",
    "    layers.Conv2D(64, 3, padding='same', activation='relu'),\n",
    "    layers.BatchNormalization(),\n",
    "    layers.MaxPool2D(),\n",
    "\n",
    "    layers.Conv2D(128, 3, padding='same', activation='relu'),\n",
    "    layers.BatchNormalization(),\n",
    "    layers.MaxPool2D(),\n",
    "\n",
    "    layers.Flatten(),\n",
    "    layers.Dense(128, activation='relu', kernel_regularizer=regularizers.l2(0.001)),\n",
    "    layers.Dropout(0.5),\n",
    "\n",
    "    layers.Dense(1, activation='sigmoid')\n",
    "])\n",
    "\n",
    "model.compile(\n",
    "    optimizer=tf.keras.optimizers.Adam(learning_rate=1e-4),\n",
    "    loss='binary_crossentropy',\n",
    "    metrics=['accuracy']\n",
    ")\n",
    "model.summary()\n"
   ]
  },
  {
   "cell_type": "code",
   "execution_count": null,
   "id": "8e4da1be",
   "metadata": {},
   "outputs": [],
   "source": [
    "# ---- CALLBACKS ----\n",
    "early_stopping = EarlyStopping(\n",
    "    monitor='val_loss', patience=PATIENCE,\n",
    "    restore_best_weights=True\n",
    ")\n",
    "reduce_lr = ReduceLROnPlateau(\n",
    "    monitor='val_loss', factor=0.3, patience=2,\n",
    "    min_lr=1e-7, verbose=1\n",
    ")\n"
   ]
  },
  {
   "cell_type": "code",
   "execution_count": null,
   "id": "7aaf2eb1",
   "metadata": {},
   "outputs": [],
   "source": [
    "# ---- TRAINING ----\n",
    "history = model.fit(\n",
    "    ds_train,\n",
    "    epochs=EPOCHS,\n",
    "    steps_per_epoch=len(train_df) // BATCH,\n",
    "    validation_data=ds_val,\n",
    "    validation_steps=len(val_df) // BATCH,\n",
    "    callbacks=[early_stopping, reduce_lr]\n",
    ")"
   ]
  },
  {
   "cell_type": "code",
   "execution_count": null,
   "id": "77539209",
   "metadata": {},
   "outputs": [],
   "source": [
    "# ---- LEARNING CURVES ----\n",
    "plt.figure(figsize=(10, 6))\n",
    "sns.lineplot(x=range(len(history.history['accuracy'])), y=history.history['accuracy'], label='Train Accuracy')\n",
    "sns.lineplot(x=range(len(history.history['val_accuracy'])), y=history.history['val_accuracy'], label='Val Accuracy')\n",
    "plt.xlabel('Epoch')\n",
    "plt.ylabel('Accuracy')\n",
    "plt.title('Learning Curve - Accuracy')\n",
    "plt.legend()\n",
    "plt.show()\n",
    "\n",
    "plt.figure(figsize=(10, 6))\n",
    "sns.lineplot(x=range(len(history.history['loss'])), y=history.history['loss'], label='Train Loss')\n",
    "sns.lineplot(x=range(len(history.history['val_loss'])), y=history.history['val_loss'], label='Val Loss')\n",
    "plt.xlabel('Epoch')\n",
    "plt.ylabel('Loss')\n",
    "plt.title('Learning Curve - Loss')\n",
    "plt.legend()\n",
    "plt.show()\n"
   ]
  },
  {
   "cell_type": "code",
   "execution_count": null,
   "id": "2a4e5585",
   "metadata": {},
   "outputs": [],
   "source": [
    "# ---- FINAL EVALUATION ----\n",
    "val_loss, val_acc = model.evaluate(ds_val, steps=len(val_df)//BATCH, verbose=0)\n",
    "print(f\"Validation Loss: {val_loss:.4f}, Validation Accuracy: {val_acc:.4f}\")\n",
    "\n",
    "test_loss, test_acc = model.evaluate(ds_test, steps=len(df_test), verbose=0)\n",
    "print(f\"Test Loss: {test_loss:.4f}, Test Accuracy: {test_acc:.4f}\")\n"
   ]
  },
  {
   "cell_type": "code",
   "execution_count": null,
   "id": "372995b0",
   "metadata": {},
   "outputs": [],
   "source": [
    "# ---- CONFUSION MATRIX ----\n",
    "true_labels = df_test['class'].map({'Normal': 0, 'Pneumonia': 1}).values\n",
    "pred_probs = model.predict(ds_test, steps=len(df_test), verbose=0).flatten()\n",
    "pred_labels = np.where(pred_probs > 0.5, 1, 0)\n"
   ]
  },
  {
   "cell_type": "code",
   "execution_count": null,
   "id": "1876403a",
   "metadata": {},
   "outputs": [],
   "source": [
    "cm = confusion_matrix(true_labels, pred_labels)\n",
    "plt.figure(figsize=(6, 4))\n",
    "sns.heatmap(cm, annot=True, fmt='d', cmap='Blues')\n",
    "plt.xlabel('Predicted Label')\n",
    "plt.ylabel('True Label')\n",
    "plt.title('Confusion Matrix - Test Set')\n",
    "plt.show()\n"
   ]
  },
  {
   "cell_type": "code",
   "execution_count": null,
   "id": "2bc9ca86",
   "metadata": {},
   "outputs": [],
   "source": [
    "# ---- ROC CURVE + AUC ----\n",
    "roc_auc = roc_auc_score(true_labels, pred_probs)\n",
    "fpr, tpr, thresholds = roc_curve(true_labels, pred_probs)\n",
    "\n",
    "plt.figure(figsize=(6, 4))\n",
    "plt.plot(fpr, tpr, label=f'ROC AUC = {roc_auc:.3f}')\n",
    "plt.plot([0, 1], [0, 1], 'k--')\n",
    "plt.xlabel('False Positive Rate')\n",
    "plt.ylabel('True Positive Rate')\n",
    "plt.title('ROC Curve - Test Set')\n",
    "plt.legend(loc='lower right')\n",
    "plt.show()"
   ]
  }
 ],
 "metadata": {
  "kernelspec": {
   "display_name": "licencjat-py311",
   "language": "python",
   "name": "python3"
  },
  "language_info": {
   "codemirror_mode": {
    "name": "ipython",
    "version": 3
   },
   "file_extension": ".py",
   "mimetype": "text/x-python",
   "name": "python",
   "nbconvert_exporter": "python",
   "pygments_lexer": "ipython3",
   "version": "3.11.13"
  }
 },
 "nbformat": 4,
 "nbformat_minor": 5
}
